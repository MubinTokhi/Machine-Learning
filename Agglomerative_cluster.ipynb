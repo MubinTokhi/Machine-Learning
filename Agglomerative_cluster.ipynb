{
 "cells": [
  {
   "cell_type": "code",
   "execution_count": 1,
   "id": "1e30488d-7128-43c8-b1db-79a5fdd10915",
   "metadata": {},
   "outputs": [],
   "source": [
    "import pandas as pd\n",
    "import numpy as np\n",
    "import matplotlib.pyplot as plt\n",
    "import seaborn as sns\n",
    "from sklearn.cluster import AgglomerativeClustering\n",
    "import scipy.cluster.hierarchy as sch"
   ]
  },
  {
   "cell_type": "markdown",
   "id": "976565af-5572-41af-b511-6bf1ee0d0982",
   "metadata": {},
   "source": [
    "## Importing data and preproccessing for clustring "
   ]
  },
  {
   "cell_type": "code",
   "execution_count": 2,
   "id": "c2c6a80d-5b3c-418b-9343-98d36b26830f",
   "metadata": {},
   "outputs": [],
   "source": [
    "df = pd.read_csv(r\"C:\\Users\\mobin\\DATASIENCE\\ML PROJECTS\\CLUSTERING\\AGGLOMARATIVE\\universities.csv\")"
   ]
  },
  {
   "cell_type": "code",
   "execution_count": 4,
   "id": "322c267e-94d7-4b73-a54f-aa364e57abdb",
   "metadata": {},
   "outputs": [
    {
     "data": {
      "text/html": [
       "<div>\n",
       "<style scoped>\n",
       "    .dataframe tbody tr th:only-of-type {\n",
       "        vertical-align: middle;\n",
       "    }\n",
       "\n",
       "    .dataframe tbody tr th {\n",
       "        vertical-align: top;\n",
       "    }\n",
       "\n",
       "    .dataframe thead th {\n",
       "        text-align: right;\n",
       "    }\n",
       "</style>\n",
       "<table border=\"1\" class=\"dataframe\">\n",
       "  <thead>\n",
       "    <tr style=\"text-align: right;\">\n",
       "      <th></th>\n",
       "      <th>Univ</th>\n",
       "      <th>SAT</th>\n",
       "      <th>Top10</th>\n",
       "      <th>Accept</th>\n",
       "      <th>SFRatio</th>\n",
       "      <th>Expenses</th>\n",
       "      <th>GradRate</th>\n",
       "    </tr>\n",
       "  </thead>\n",
       "  <tbody>\n",
       "    <tr>\n",
       "      <th>0</th>\n",
       "      <td>Brown</td>\n",
       "      <td>1310</td>\n",
       "      <td>89</td>\n",
       "      <td>22</td>\n",
       "      <td>13</td>\n",
       "      <td>22704</td>\n",
       "      <td>94</td>\n",
       "    </tr>\n",
       "    <tr>\n",
       "      <th>1</th>\n",
       "      <td>CalTech</td>\n",
       "      <td>1415</td>\n",
       "      <td>100</td>\n",
       "      <td>25</td>\n",
       "      <td>6</td>\n",
       "      <td>63575</td>\n",
       "      <td>81</td>\n",
       "    </tr>\n",
       "    <tr>\n",
       "      <th>2</th>\n",
       "      <td>CMU</td>\n",
       "      <td>1260</td>\n",
       "      <td>62</td>\n",
       "      <td>59</td>\n",
       "      <td>9</td>\n",
       "      <td>25026</td>\n",
       "      <td>72</td>\n",
       "    </tr>\n",
       "    <tr>\n",
       "      <th>3</th>\n",
       "      <td>Columbia</td>\n",
       "      <td>1310</td>\n",
       "      <td>76</td>\n",
       "      <td>24</td>\n",
       "      <td>12</td>\n",
       "      <td>31510</td>\n",
       "      <td>88</td>\n",
       "    </tr>\n",
       "    <tr>\n",
       "      <th>4</th>\n",
       "      <td>Cornell</td>\n",
       "      <td>1280</td>\n",
       "      <td>83</td>\n",
       "      <td>33</td>\n",
       "      <td>13</td>\n",
       "      <td>21864</td>\n",
       "      <td>90</td>\n",
       "    </tr>\n",
       "  </tbody>\n",
       "</table>\n",
       "</div>"
      ],
      "text/plain": [
       "       Univ   SAT  Top10  Accept  SFRatio  Expenses  GradRate\n",
       "0     Brown  1310     89      22       13     22704        94\n",
       "1   CalTech  1415    100      25        6     63575        81\n",
       "2       CMU  1260     62      59        9     25026        72\n",
       "3  Columbia  1310     76      24       12     31510        88\n",
       "4   Cornell  1280     83      33       13     21864        90"
      ]
     },
     "execution_count": 4,
     "metadata": {},
     "output_type": "execute_result"
    }
   ],
   "source": [
    "df.head()"
   ]
  },
  {
   "cell_type": "code",
   "execution_count": 5,
   "id": "9a09d6f9-22b2-4d78-9903-d5e59cc48e13",
   "metadata": {},
   "outputs": [
    {
     "name": "stdout",
     "output_type": "stream",
     "text": [
      "<class 'pandas.core.frame.DataFrame'>\n",
      "RangeIndex: 25 entries, 0 to 24\n",
      "Data columns (total 7 columns):\n",
      " #   Column    Non-Null Count  Dtype \n",
      "---  ------    --------------  ----- \n",
      " 0   Univ      25 non-null     object\n",
      " 1   SAT       25 non-null     int64 \n",
      " 2   Top10     25 non-null     int64 \n",
      " 3   Accept    25 non-null     int64 \n",
      " 4   SFRatio   25 non-null     int64 \n",
      " 5   Expenses  25 non-null     int64 \n",
      " 6   GradRate  25 non-null     int64 \n",
      "dtypes: int64(6), object(1)\n",
      "memory usage: 1.5+ KB\n"
     ]
    }
   ],
   "source": [
    "df.info()"
   ]
  },
  {
   "cell_type": "code",
   "execution_count": 7,
   "id": "7fe0c4fb-3e99-412b-9369-7f457551c50f",
   "metadata": {},
   "outputs": [],
   "source": [
    "df.drop('Univ', axis = 1 , inplace = True)"
   ]
  },
  {
   "cell_type": "code",
   "execution_count": 8,
   "id": "ff888e3a-db0f-4a0c-98a7-8a3feaab1721",
   "metadata": {},
   "outputs": [
    {
     "data": {
      "text/html": [
       "<div>\n",
       "<style scoped>\n",
       "    .dataframe tbody tr th:only-of-type {\n",
       "        vertical-align: middle;\n",
       "    }\n",
       "\n",
       "    .dataframe tbody tr th {\n",
       "        vertical-align: top;\n",
       "    }\n",
       "\n",
       "    .dataframe thead th {\n",
       "        text-align: right;\n",
       "    }\n",
       "</style>\n",
       "<table border=\"1\" class=\"dataframe\">\n",
       "  <thead>\n",
       "    <tr style=\"text-align: right;\">\n",
       "      <th></th>\n",
       "      <th>SAT</th>\n",
       "      <th>Top10</th>\n",
       "      <th>Accept</th>\n",
       "      <th>SFRatio</th>\n",
       "      <th>Expenses</th>\n",
       "      <th>GradRate</th>\n",
       "    </tr>\n",
       "  </thead>\n",
       "  <tbody>\n",
       "    <tr>\n",
       "      <th>0</th>\n",
       "      <td>1310</td>\n",
       "      <td>89</td>\n",
       "      <td>22</td>\n",
       "      <td>13</td>\n",
       "      <td>22704</td>\n",
       "      <td>94</td>\n",
       "    </tr>\n",
       "  </tbody>\n",
       "</table>\n",
       "</div>"
      ],
      "text/plain": [
       "    SAT  Top10  Accept  SFRatio  Expenses  GradRate\n",
       "0  1310     89      22       13     22704        94"
      ]
     },
     "execution_count": 8,
     "metadata": {},
     "output_type": "execute_result"
    }
   ],
   "source": [
    "df.head(1)"
   ]
  },
  {
   "cell_type": "markdown",
   "id": "7dada538-5141-440f-a628-8b3ef059494f",
   "metadata": {},
   "source": [
    "## Normalizing the data"
   ]
  },
  {
   "cell_type": "code",
   "execution_count": 6,
   "id": "89372a84-5be8-455e-9522-4282b8402a6e",
   "metadata": {},
   "outputs": [],
   "source": [
    "from sklearn.preprocessing import MinMaxScaler"
   ]
  },
  {
   "cell_type": "code",
   "execution_count": 9,
   "id": "d5242bb1-0638-428d-9584-69c4aa2659ba",
   "metadata": {},
   "outputs": [
    {
     "data": {
      "text/plain": [
       "array([[0.74390244, 0.84722222, 0.10526316, 0.36842105, 0.25514388,\n",
       "        0.9       ],\n",
       "       [1.        , 1.        , 0.14473684, 0.        , 1.        ,\n",
       "        0.46666667],\n",
       "       [0.62195122, 0.47222222, 0.59210526, 0.15789474, 0.29746132,\n",
       "        0.16666667],\n",
       "       [0.74390244, 0.66666667, 0.13157895, 0.31578947, 0.41562939,\n",
       "        0.7       ],\n",
       "       [0.67073171, 0.76388889, 0.25      , 0.36842105, 0.23983525,\n",
       "        0.76666667],\n",
       "       [0.81707317, 0.84722222, 0.11842105, 0.21052632, 0.4275118 ,\n",
       "        0.93333333],\n",
       "       [0.75609756, 0.86111111, 0.21052632, 0.31578947, 0.41699623,\n",
       "        0.93333333],\n",
       "       [0.6097561 , 0.63888889, 0.13157895, 0.31578947, 0.20816096,\n",
       "        0.83333333],\n",
       "       [0.96341463, 0.875     , 0.        , 0.26315789, 0.56169926,\n",
       "        1.        ],\n",
       "       [0.73170732, 0.65277778, 0.39473684, 0.05263158, 0.91099123,\n",
       "        0.66666667],\n",
       "       [0.91463415, 0.91666667, 0.21052632, 0.21052632, 0.47686392,\n",
       "        0.8       ],\n",
       "       [0.62195122, 0.79166667, 0.32894737, 0.26315789, 0.35260885,\n",
       "        0.73333333],\n",
       "       [0.6097561 , 0.73611111, 0.36842105, 0.36842105, 0.11696525,\n",
       "        0.9       ],\n",
       "       [0.18536585, 0.13888889, 0.52631579, 0.63157895, 0.02699058,\n",
       "        0.43333333],\n",
       "       [0.90243902, 0.875     , 0.        , 0.10526316, 0.3921197 ,\n",
       "        0.93333333],\n",
       "       [0.        , 0.        , 1.        , 0.68421053, 0.00659729,\n",
       "        0.06666667],\n",
       "       [0.86585366, 0.86111111, 0.07894737, 0.31578947, 0.50565873,\n",
       "        0.86666667],\n",
       "       [0.17073171, 0.29166667, 0.69736842, 1.        , 0.        ,\n",
       "        0.        ],\n",
       "       [0.57317073, 0.93055556, 0.34210526, 0.57894737, 0.11729329,\n",
       "        0.36666667],\n",
       "       [0.69512195, 0.65277778, 0.47368421, 0.36842105, 0.54083213,\n",
       "        0.66666667],\n",
       "       [0.42682927, 0.51388889, 0.71052632, 0.52631579, 0.12330739,\n",
       "        0.6       ],\n",
       "       [0.68292683, 0.72222222, 0.28947368, 0.26315789, 0.34351479,\n",
       "        0.76666667],\n",
       "       [0.53658537, 0.68055556, 0.39473684, 0.42105263, 0.0846531 ,\n",
       "        0.83333333],\n",
       "       [0.19512195, 0.16666667, 0.72368421, 0.47368421, 0.05746205,\n",
       "        0.13333333],\n",
       "       [0.90243902, 0.93055556, 0.06578947, 0.26315789, 0.63439704,\n",
       "        0.96666667]])"
      ]
     },
     "execution_count": 9,
     "metadata": {},
     "output_type": "execute_result"
    }
   ],
   "source": [
    "scaler = MinMaxScaler()\n",
    "scaler.fit_transform(df)"
   ]
  },
  {
   "cell_type": "code",
   "execution_count": 10,
   "id": "c2d37533-2c93-4381-adec-969b73c1dfdb",
   "metadata": {},
   "outputs": [],
   "source": [
    "norm_df = pd.DataFrame(scaler.fit_transform(df) , columns = df.columns)"
   ]
  },
  {
   "cell_type": "code",
   "execution_count": 11,
   "id": "c242bdc0-11d6-4ff8-8b8b-563e5f5074d6",
   "metadata": {},
   "outputs": [
    {
     "data": {
      "text/html": [
       "<div>\n",
       "<style scoped>\n",
       "    .dataframe tbody tr th:only-of-type {\n",
       "        vertical-align: middle;\n",
       "    }\n",
       "\n",
       "    .dataframe tbody tr th {\n",
       "        vertical-align: top;\n",
       "    }\n",
       "\n",
       "    .dataframe thead th {\n",
       "        text-align: right;\n",
       "    }\n",
       "</style>\n",
       "<table border=\"1\" class=\"dataframe\">\n",
       "  <thead>\n",
       "    <tr style=\"text-align: right;\">\n",
       "      <th></th>\n",
       "      <th>SAT</th>\n",
       "      <th>Top10</th>\n",
       "      <th>Accept</th>\n",
       "      <th>SFRatio</th>\n",
       "      <th>Expenses</th>\n",
       "      <th>GradRate</th>\n",
       "    </tr>\n",
       "  </thead>\n",
       "  <tbody>\n",
       "    <tr>\n",
       "      <th>0</th>\n",
       "      <td>0.743902</td>\n",
       "      <td>0.847222</td>\n",
       "      <td>0.105263</td>\n",
       "      <td>0.368421</td>\n",
       "      <td>0.255144</td>\n",
       "      <td>0.900000</td>\n",
       "    </tr>\n",
       "    <tr>\n",
       "      <th>1</th>\n",
       "      <td>1.000000</td>\n",
       "      <td>1.000000</td>\n",
       "      <td>0.144737</td>\n",
       "      <td>0.000000</td>\n",
       "      <td>1.000000</td>\n",
       "      <td>0.466667</td>\n",
       "    </tr>\n",
       "    <tr>\n",
       "      <th>2</th>\n",
       "      <td>0.621951</td>\n",
       "      <td>0.472222</td>\n",
       "      <td>0.592105</td>\n",
       "      <td>0.157895</td>\n",
       "      <td>0.297461</td>\n",
       "      <td>0.166667</td>\n",
       "    </tr>\n",
       "    <tr>\n",
       "      <th>3</th>\n",
       "      <td>0.743902</td>\n",
       "      <td>0.666667</td>\n",
       "      <td>0.131579</td>\n",
       "      <td>0.315789</td>\n",
       "      <td>0.415629</td>\n",
       "      <td>0.700000</td>\n",
       "    </tr>\n",
       "    <tr>\n",
       "      <th>4</th>\n",
       "      <td>0.670732</td>\n",
       "      <td>0.763889</td>\n",
       "      <td>0.250000</td>\n",
       "      <td>0.368421</td>\n",
       "      <td>0.239835</td>\n",
       "      <td>0.766667</td>\n",
       "    </tr>\n",
       "  </tbody>\n",
       "</table>\n",
       "</div>"
      ],
      "text/plain": [
       "        SAT     Top10    Accept   SFRatio  Expenses  GradRate\n",
       "0  0.743902  0.847222  0.105263  0.368421  0.255144  0.900000\n",
       "1  1.000000  1.000000  0.144737  0.000000  1.000000  0.466667\n",
       "2  0.621951  0.472222  0.592105  0.157895  0.297461  0.166667\n",
       "3  0.743902  0.666667  0.131579  0.315789  0.415629  0.700000\n",
       "4  0.670732  0.763889  0.250000  0.368421  0.239835  0.766667"
      ]
     },
     "execution_count": 11,
     "metadata": {},
     "output_type": "execute_result"
    }
   ],
   "source": [
    "norm_df.head()"
   ]
  },
  {
   "cell_type": "code",
   "execution_count": 12,
   "id": "19307f29-1847-47ac-89de-5a1f0626cc4c",
   "metadata": {},
   "outputs": [
    {
     "data": {
      "image/png": "[encoded data removed]",
      "text/plain": [
       "<Figure size 640x480 with 1 Axes>"
      ]
     },
     "metadata": {},
     "output_type": "display_data"
    }
   ],
   "source": [
    "dandogram = sch.dendrogram(sch.linkage(norm_df , method = 'complete'))"
   ]
  },
  {
   "cell_type": "code",
   "execution_count": 18,
   "id": "4a251d05-ea4a-4d2c-92d2-7e60c7e03423",
   "metadata": {},
   "outputs": [],
   "source": [
    "hc = AgglomerativeClustering( n_clusters= 3 , metric = 'euclidean',linkage='complete',distance_threshold= None)"
   ]
  },
  {
   "cell_type": "code",
   "execution_count": 19,
   "id": "473f4ea5-f427-4446-ad36-b810590cb302",
   "metadata": {},
   "outputs": [],
   "source": [
    "y_pred = hc.fit_predict(norm_df)"
   ]
  },
  {
   "cell_type": "code",
   "execution_count": 20,
   "id": "96281ff5-6262-404b-8d85-05b6e060b4d1",
   "metadata": {},
   "outputs": [
    {
     "data": {
      "text/plain": [
       "array([0, 2, 0, 0, 0, 2, 2, 0, 2, 2, 2, 0, 0, 1, 2, 1, 2, 1, 0, 2, 0, 0,\n",
       "       0, 1, 2], dtype=int64)"
      ]
     },
     "execution_count": 20,
     "metadata": {},
     "output_type": "execute_result"
    }
   ],
   "source": [
    "y_pred"
   ]
  },
  {
   "cell_type": "code",
   "execution_count": 21,
   "id": "7457b648-75e4-4a67-a8ba-30a7af111b1d",
   "metadata": {},
   "outputs": [],
   "source": [
    "norm_df['h_cluster'] = y_pred"
   ]
  },
  {
   "cell_type": "code",
   "execution_count": 22,
   "id": "5e73f842-0f0e-44ba-a066-1d4ee548575c",
   "metadata": {},
   "outputs": [
    {
     "data": {
      "text/html": [
       "<div>\n",
       "<style scoped>\n",
       "    .dataframe tbody tr th:only-of-type {\n",
       "        vertical-align: middle;\n",
       "    }\n",
       "\n",
       "    .dataframe tbody tr th {\n",
       "        vertical-align: top;\n",
       "    }\n",
       "\n",
       "    .dataframe thead th {\n",
       "        text-align: right;\n",
       "    }\n",
       "</style>\n",
       "<table border=\"1\" class=\"dataframe\">\n",
       "  <thead>\n",
       "    <tr style=\"text-align: right;\">\n",
       "      <th></th>\n",
       "      <th>SAT</th>\n",
       "      <th>Top10</th>\n",
       "      <th>Accept</th>\n",
       "      <th>SFRatio</th>\n",
       "      <th>Expenses</th>\n",
       "      <th>GradRate</th>\n",
       "      <th>h_cluster</th>\n",
       "    </tr>\n",
       "  </thead>\n",
       "  <tbody>\n",
       "    <tr>\n",
       "      <th>0</th>\n",
       "      <td>0.743902</td>\n",
       "      <td>0.847222</td>\n",
       "      <td>0.105263</td>\n",
       "      <td>0.368421</td>\n",
       "      <td>0.255144</td>\n",
       "      <td>0.900000</td>\n",
       "      <td>0</td>\n",
       "    </tr>\n",
       "    <tr>\n",
       "      <th>1</th>\n",
       "      <td>1.000000</td>\n",
       "      <td>1.000000</td>\n",
       "      <td>0.144737</td>\n",
       "      <td>0.000000</td>\n",
       "      <td>1.000000</td>\n",
       "      <td>0.466667</td>\n",
       "      <td>2</td>\n",
       "    </tr>\n",
       "    <tr>\n",
       "      <th>2</th>\n",
       "      <td>0.621951</td>\n",
       "      <td>0.472222</td>\n",
       "      <td>0.592105</td>\n",
       "      <td>0.157895</td>\n",
       "      <td>0.297461</td>\n",
       "      <td>0.166667</td>\n",
       "      <td>0</td>\n",
       "    </tr>\n",
       "    <tr>\n",
       "      <th>3</th>\n",
       "      <td>0.743902</td>\n",
       "      <td>0.666667</td>\n",
       "      <td>0.131579</td>\n",
       "      <td>0.315789</td>\n",
       "      <td>0.415629</td>\n",
       "      <td>0.700000</td>\n",
       "      <td>0</td>\n",
       "    </tr>\n",
       "    <tr>\n",
       "      <th>4</th>\n",
       "      <td>0.670732</td>\n",
       "      <td>0.763889</td>\n",
       "      <td>0.250000</td>\n",
       "      <td>0.368421</td>\n",
       "      <td>0.239835</td>\n",
       "      <td>0.766667</td>\n",
       "      <td>0</td>\n",
       "    </tr>\n",
       "  </tbody>\n",
       "</table>\n",
       "</div>"
      ],
      "text/plain": [
       "        SAT     Top10    Accept   SFRatio  Expenses  GradRate  h_cluster\n",
       "0  0.743902  0.847222  0.105263  0.368421  0.255144  0.900000          0\n",
       "1  1.000000  1.000000  0.144737  0.000000  1.000000  0.466667          2\n",
       "2  0.621951  0.472222  0.592105  0.157895  0.297461  0.166667          0\n",
       "3  0.743902  0.666667  0.131579  0.315789  0.415629  0.700000          0\n",
       "4  0.670732  0.763889  0.250000  0.368421  0.239835  0.766667          0"
      ]
     },
     "execution_count": 22,
     "metadata": {},
     "output_type": "execute_result"
    }
   ],
   "source": [
    "norm_df.head()"
   ]
  },
  {
   "cell_type": "code",
   "execution_count": 23,
   "id": "663fda6f-1c16-4023-b510-9f769f139795",
   "metadata": {},
   "outputs": [
    {
     "data": {
      "text/html": [
       "<div>\n",
       "<style scoped>\n",
       "    .dataframe tbody tr th:only-of-type {\n",
       "        vertical-align: middle;\n",
       "    }\n",
       "\n",
       "    .dataframe tbody tr th {\n",
       "        vertical-align: top;\n",
       "    }\n",
       "\n",
       "    .dataframe thead th {\n",
       "        text-align: right;\n",
       "    }\n",
       "</style>\n",
       "<table border=\"1\" class=\"dataframe\">\n",
       "  <thead>\n",
       "    <tr style=\"text-align: right;\">\n",
       "      <th></th>\n",
       "      <th>SAT</th>\n",
       "      <th>Top10</th>\n",
       "      <th>Accept</th>\n",
       "      <th>SFRatio</th>\n",
       "      <th>Expenses</th>\n",
       "      <th>GradRate</th>\n",
       "    </tr>\n",
       "    <tr>\n",
       "      <th>h_cluster</th>\n",
       "      <th></th>\n",
       "      <th></th>\n",
       "      <th></th>\n",
       "      <th></th>\n",
       "      <th></th>\n",
       "      <th></th>\n",
       "    </tr>\n",
       "  </thead>\n",
       "  <tbody>\n",
       "    <tr>\n",
       "      <th>0</th>\n",
       "      <td>0.621951</td>\n",
       "      <td>0.705808</td>\n",
       "      <td>0.331340</td>\n",
       "      <td>0.358852</td>\n",
       "      <td>0.232234</td>\n",
       "      <td>0.687879</td>\n",
       "    </tr>\n",
       "    <tr>\n",
       "      <th>1</th>\n",
       "      <td>0.137805</td>\n",
       "      <td>0.149306</td>\n",
       "      <td>0.736842</td>\n",
       "      <td>0.697368</td>\n",
       "      <td>0.022762</td>\n",
       "      <td>0.158333</td>\n",
       "    </tr>\n",
       "    <tr>\n",
       "      <th>2</th>\n",
       "      <td>0.854878</td>\n",
       "      <td>0.847222</td>\n",
       "      <td>0.169737</td>\n",
       "      <td>0.210526</td>\n",
       "      <td>0.586707</td>\n",
       "      <td>0.823333</td>\n",
       "    </tr>\n",
       "  </tbody>\n",
       "</table>\n",
       "</div>"
      ],
      "text/plain": [
       "                SAT     Top10    Accept   SFRatio  Expenses  GradRate\n",
       "h_cluster                                                            \n",
       "0          0.621951  0.705808  0.331340  0.358852  0.232234  0.687879\n",
       "1          0.137805  0.149306  0.736842  0.697368  0.022762  0.158333\n",
       "2          0.854878  0.847222  0.169737  0.210526  0.586707  0.823333"
      ]
     },
     "execution_count": 23,
     "metadata": {},
     "output_type": "execute_result"
    }
   ],
   "source": [
    "norm_df.groupby('h_cluster').mean()"
   ]
  },
  {
   "cell_type": "code",
   "execution_count": null,
   "id": "5092dc26-218d-4c3e-ad03-debe8f8ceb54",
   "metadata": {},
   "outputs": [],
   "source": []
  }
 ],
 "metadata": {
  "kernelspec": {
   "display_name": "Python 3 (ipykernel)",
   "language": "python",
   "name": "python3"
  },
  "language_info": {
   "codemirror_mode": {
    "name": "ipython",
    "version": 3
   },
   "file_extension": ".py",
   "mimetype": "text/x-python",
   "name": "python",
   "nbconvert_exporter": "python",
   "pygments_lexer": "ipython3",
   "version": "3.11.5"
  }
 },
 "nbformat": 4,
 "nbformat_minor": 5
}
